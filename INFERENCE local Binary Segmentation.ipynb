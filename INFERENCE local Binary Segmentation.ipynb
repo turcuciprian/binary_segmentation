{
 "cells": [
  {
   "cell_type": "code",
   "execution_count": 1,
   "id": "6be20584",
   "metadata": {},
   "outputs": [],
   "source": [
    "from IPython.display import Image\n",
    "import sys\n",
    "import cv2\n",
    "from matplotlib import pyplot as plt\n",
    "import numpy as np\n",
    "# from PIL import Image\n",
    "\n",
    "sys.path.append('lib')\n",
    "from logic import *\n",
    "from general import *"
   ]
  },
  {
   "cell_type": "code",
   "execution_count": 2,
   "id": "b57ef86b",
   "metadata": {},
   "outputs": [
    {
     "name": "stderr",
     "output_type": "stream",
     "text": [
      "/Users/ciprianturcu/anaconda3/lib/python3.10/site-packages/torchvision/models/_utils.py:208: UserWarning: The parameter 'pretrained' is deprecated since 0.13 and may be removed in the future, please use 'weights' instead.\n",
      "  warnings.warn(\n",
      "/Users/ciprianturcu/anaconda3/lib/python3.10/site-packages/torchvision/models/_utils.py:223: UserWarning: Arguments other than a weight enum or `None` for 'weights' are deprecated since 0.13 and may be removed in the future. The current behavior is equivalent to passing `weights=ResNet34_Weights.IMAGENET1K_V1`. You can also use `weights=ResNet34_Weights.DEFAULT` to get the most up-to-date weights.\n",
      "  warnings.warn(msg)\n"
     ]
    }
   ],
   "source": [
    "learn = main_logic()"
   ]
  },
  {
   "cell_type": "code",
   "execution_count": 3,
   "id": "cc5fd08e",
   "metadata": {},
   "outputs": [
    {
     "data": {
      "text/plain": [
       "<fastai.learner.Learner at 0x7ff4022b3f10>"
      ]
     },
     "execution_count": 3,
     "metadata": {},
     "output_type": "execute_result"
    }
   ],
   "source": [
    "learn.load('model_v0.1')"
   ]
  },
  {
   "cell_type": "code",
   "execution_count": 4,
   "id": "4335e73a",
   "metadata": {},
   "outputs": [],
   "source": [
    "# image_path='./test/car1.jpg'"
   ]
  },
  {
   "cell_type": "code",
   "execution_count": 5,
   "id": "d2c5865a",
   "metadata": {},
   "outputs": [
    {
     "ename": "NameError",
     "evalue": "name 'widgets' is not defined",
     "output_type": "error",
     "traceback": [
      "\u001b[0;31m---------------------------------------------------------------------------\u001b[0m",
      "\u001b[0;31mNameError\u001b[0m                                 Traceback (most recent call last)",
      "Cell \u001b[0;32mIn[5], line 1\u001b[0m\n\u001b[0;32m----> 1\u001b[0m image_path \u001b[38;5;241m=\u001b[39m \u001b[43mwidgets\u001b[49m\u001b[38;5;241m.\u001b[39mFileUpload()\n\u001b[1;32m      2\u001b[0m image_path\n",
      "\u001b[0;31mNameError\u001b[0m: name 'widgets' is not defined"
     ]
    }
   ],
   "source": [
    "image_path = widgets.FileUpload()\n",
    "image_path"
   ]
  },
  {
   "cell_type": "code",
   "execution_count": null,
   "id": "47d05a80",
   "metadata": {},
   "outputs": [],
   "source": [
    "first_mask = get_predict_image(image_path,learn)"
   ]
  },
  {
   "cell_type": "code",
   "execution_count": null,
   "id": "3fa44cd2",
   "metadata": {},
   "outputs": [],
   "source": [
    "image = cv2.imread(image_path, cv2.IMREAD_COLOR)"
   ]
  },
  {
   "cell_type": "code",
   "execution_count": null,
   "id": "51552cef",
   "metadata": {},
   "outputs": [],
   "source": [
    "#SHOW Image\n",
    "plt.imshow(cv2.cvtColor(image, cv2.COLOR_BGR2RGB))\n",
    "plt.show()"
   ]
  },
  {
   "cell_type": "code",
   "execution_count": null,
   "id": "5625f86a",
   "metadata": {},
   "outputs": [],
   "source": [
    "# Convert the PIL Image object to a NumPy array\n",
    "img_np = np.asarray(first_mask)\n",
    "\n",
    "# Convert the NumPy array to a cv2.imread() format\n",
    "overlayed_mask = cv2.cvtColor(img_np, cv2.COLOR_GRAY2RGB)"
   ]
  },
  {
   "cell_type": "code",
   "execution_count": null,
   "id": "76dc3041",
   "metadata": {},
   "outputs": [],
   "source": [
    "#SHOW Mask\n",
    "plt.imshow(cv2.cvtColor(overlayed_mask, cv2.IMREAD_GRAYSCALE))\n",
    "plt.show()"
   ]
  },
  {
   "cell_type": "code",
   "execution_count": null,
   "id": "a089caa6",
   "metadata": {
    "scrolled": true
   },
   "outputs": [],
   "source": [
    "len(image)"
   ]
  },
  {
   "cell_type": "code",
   "execution_count": null,
   "id": "a5ffe697",
   "metadata": {},
   "outputs": [],
   "source": [
    "len(overlayed_mask)"
   ]
  },
  {
   "cell_type": "code",
   "execution_count": null,
   "id": "f281d618",
   "metadata": {},
   "outputs": [],
   "source": [
    "# Overlay the mask onto the image\n",
    "overlay = overlay_mask(image, overlayed_mask)"
   ]
  },
  {
   "cell_type": "code",
   "execution_count": null,
   "id": "523b85b5",
   "metadata": {},
   "outputs": [],
   "source": [
    "# Show the overlaid image using Matplotlib\n",
    "plt.imshow(cv2.cvtColor(overlay, cv2.IMREAD_GRAYSCALE))"
   ]
  }
 ],
 "metadata": {
  "kernelspec": {
   "display_name": "test4",
   "language": "python",
   "name": "test4"
  },
  "language_info": {
   "codemirror_mode": {
    "name": "ipython",
    "version": 3
   },
   "file_extension": ".py",
   "mimetype": "text/x-python",
   "name": "python",
   "nbconvert_exporter": "python",
   "pygments_lexer": "ipython3",
   "version": "3.10.9"
  }
 },
 "nbformat": 4,
 "nbformat_minor": 5
}
