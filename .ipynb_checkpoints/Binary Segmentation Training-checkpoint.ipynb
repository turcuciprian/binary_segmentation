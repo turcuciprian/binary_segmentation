{
 "cells": [
  {
   "cell_type": "code",
   "execution_count": 21,
   "id": "3dede8a6",
   "metadata": {},
   "outputs": [
    {
     "name": "stdout",
     "output_type": "stream",
     "text": [
      "Defaulting to user installation because normal site-packages is not writeable\n",
      "Requirement already satisfied: fastai in /home/ciprian/.local/lib/python3.10/site-packages (2.7.11)\n",
      "Requirement already satisfied: scipy in /home/ciprian/.local/lib/python3.10/site-packages (from fastai) (1.10.1)\n",
      "Requirement already satisfied: torchvision>=0.8.2 in /home/ciprian/.local/lib/python3.10/site-packages (from fastai) (0.14.1)\n",
      "Requirement already satisfied: packaging in /home/ciprian/.local/lib/python3.10/site-packages (from fastai) (23.0)\n",
      "Requirement already satisfied: pyyaml in /usr/lib/python3/dist-packages (from fastai) (5.4.1)\n",
      "Requirement already satisfied: fastcore<1.6,>=1.4.5 in /home/ciprian/.local/lib/python3.10/site-packages (from fastai) (1.5.28)\n",
      "Requirement already satisfied: pillow>6.0.0 in /usr/lib/python3/dist-packages (from fastai) (9.2.0)\n",
      "Requirement already satisfied: spacy<4 in /home/ciprian/.local/lib/python3.10/site-packages (from fastai) (3.5.1)\n",
      "Requirement already satisfied: torch<1.14,>=1.7 in /home/ciprian/.local/lib/python3.10/site-packages (from fastai) (1.13.1)\n",
      "Requirement already satisfied: fastprogress>=0.2.4 in /home/ciprian/.local/lib/python3.10/site-packages (from fastai) (1.0.3)\n",
      "Requirement already satisfied: fastdownload<2,>=0.0.5 in /home/ciprian/.local/lib/python3.10/site-packages (from fastai) (0.0.7)\n",
      "Requirement already satisfied: requests in /home/ciprian/.local/lib/python3.10/site-packages (from fastai) (2.28.2)\n",
      "Requirement already satisfied: scikit-learn in /home/ciprian/.local/lib/python3.10/site-packages (from fastai) (1.2.2)\n",
      "Requirement already satisfied: pandas in /home/ciprian/.local/lib/python3.10/site-packages (from fastai) (1.5.3)\n",
      "Requirement already satisfied: matplotlib in /home/ciprian/.local/lib/python3.10/site-packages (from fastai) (3.7.1)\n",
      "Requirement already satisfied: pip in /usr/lib/python3/dist-packages (from fastai) (22.2)\n",
      "Requirement already satisfied: spacy-legacy<3.1.0,>=3.0.11 in /home/ciprian/.local/lib/python3.10/site-packages (from spacy<4->fastai) (3.0.12)\n",
      "Requirement already satisfied: tqdm<5.0.0,>=4.38.0 in /home/ciprian/.local/lib/python3.10/site-packages (from spacy<4->fastai) (4.65.0)\n",
      "Requirement already satisfied: numpy>=1.15.0 in /home/ciprian/.local/lib/python3.10/site-packages (from spacy<4->fastai) (1.24.2)\n",
      "Requirement already satisfied: jinja2 in /home/ciprian/.local/lib/python3.10/site-packages (from spacy<4->fastai) (3.1.2)\n",
      "Requirement already satisfied: preshed<3.1.0,>=3.0.2 in /home/ciprian/.local/lib/python3.10/site-packages (from spacy<4->fastai) (3.0.8)\n",
      "Requirement already satisfied: thinc<8.2.0,>=8.1.8 in /home/ciprian/.local/lib/python3.10/site-packages (from spacy<4->fastai) (8.1.9)\n",
      "Requirement already satisfied: smart-open<7.0.0,>=5.2.1 in /home/ciprian/.local/lib/python3.10/site-packages (from spacy<4->fastai) (6.3.0)\n",
      "Requirement already satisfied: pathy>=0.10.0 in /home/ciprian/.local/lib/python3.10/site-packages (from spacy<4->fastai) (0.10.1)\n",
      "Requirement already satisfied: setuptools in /usr/lib/python3/dist-packages (from spacy<4->fastai) (59.6.0)\n",
      "Requirement already satisfied: typer<0.8.0,>=0.3.0 in /home/ciprian/.local/lib/python3.10/site-packages (from spacy<4->fastai) (0.7.0)\n",
      "Requirement already satisfied: wasabi<1.2.0,>=0.9.1 in /home/ciprian/.local/lib/python3.10/site-packages (from spacy<4->fastai) (1.1.1)\n",
      "Requirement already satisfied: spacy-loggers<2.0.0,>=1.0.0 in /home/ciprian/.local/lib/python3.10/site-packages (from spacy<4->fastai) (1.0.4)\n",
      "Requirement already satisfied: langcodes<4.0.0,>=3.2.0 in /home/ciprian/.local/lib/python3.10/site-packages (from spacy<4->fastai) (3.3.0)\n",
      "Requirement already satisfied: srsly<3.0.0,>=2.4.3 in /home/ciprian/.local/lib/python3.10/site-packages (from spacy<4->fastai) (2.4.6)\n",
      "Requirement already satisfied: pydantic!=1.8,!=1.8.1,<1.11.0,>=1.7.4 in /home/ciprian/.local/lib/python3.10/site-packages (from spacy<4->fastai) (1.10.7)\n",
      "Requirement already satisfied: catalogue<2.1.0,>=2.0.6 in /home/ciprian/.local/lib/python3.10/site-packages (from spacy<4->fastai) (2.0.8)\n",
      "Requirement already satisfied: cymem<2.1.0,>=2.0.2 in /home/ciprian/.local/lib/python3.10/site-packages (from spacy<4->fastai) (2.0.7)\n",
      "Requirement already satisfied: murmurhash<1.1.0,>=0.28.0 in /home/ciprian/.local/lib/python3.10/site-packages (from spacy<4->fastai) (1.0.9)\n",
      "Requirement already satisfied: idna<4,>=2.5 in /home/ciprian/.local/lib/python3.10/site-packages (from requests->fastai) (3.4)\n",
      "Requirement already satisfied: certifi>=2017.4.17 in /home/ciprian/.local/lib/python3.10/site-packages (from requests->fastai) (2022.12.7)\n",
      "Requirement already satisfied: urllib3<1.27,>=1.21.1 in /usr/lib/python3/dist-packages (from requests->fastai) (1.26.9)\n",
      "Requirement already satisfied: charset-normalizer<4,>=2 in /home/ciprian/.local/lib/python3.10/site-packages (from requests->fastai) (3.1.0)\n",
      "Requirement already satisfied: typing-extensions in /home/ciprian/.local/lib/python3.10/site-packages (from torch<1.14,>=1.7->fastai) (4.5.0)\n",
      "Requirement already satisfied: nvidia-cudnn-cu11==8.5.0.96 in /home/ciprian/.local/lib/python3.10/site-packages (from torch<1.14,>=1.7->fastai) (8.5.0.96)\n",
      "Requirement already satisfied: nvidia-cuda-runtime-cu11==11.7.99 in /home/ciprian/.local/lib/python3.10/site-packages (from torch<1.14,>=1.7->fastai) (11.7.99)\n",
      "Requirement already satisfied: nvidia-cublas-cu11==11.10.3.66 in /home/ciprian/.local/lib/python3.10/site-packages (from torch<1.14,>=1.7->fastai) (11.10.3.66)\n",
      "Requirement already satisfied: nvidia-cuda-nvrtc-cu11==11.7.99 in /home/ciprian/.local/lib/python3.10/site-packages (from torch<1.14,>=1.7->fastai) (11.7.99)\n",
      "Requirement already satisfied: wheel in /usr/lib/python3/dist-packages (from nvidia-cublas-cu11==11.10.3.66->torch<1.14,>=1.7->fastai) (0.37.1)\n",
      "Requirement already satisfied: kiwisolver>=1.0.1 in /home/ciprian/.local/lib/python3.10/site-packages (from matplotlib->fastai) (1.4.4)\n",
      "Requirement already satisfied: contourpy>=1.0.1 in /home/ciprian/.local/lib/python3.10/site-packages (from matplotlib->fastai) (1.0.7)\n",
      "Requirement already satisfied: fonttools>=4.22.0 in /home/ciprian/.local/lib/python3.10/site-packages (from matplotlib->fastai) (4.39.3)\n",
      "Requirement already satisfied: cycler>=0.10 in /home/ciprian/.local/lib/python3.10/site-packages (from matplotlib->fastai) (0.11.0)\n",
      "Requirement already satisfied: python-dateutil>=2.7 in /home/ciprian/.local/lib/python3.10/site-packages (from matplotlib->fastai) (2.8.2)\n",
      "Requirement already satisfied: pyparsing>=2.3.1 in /usr/lib/python3/dist-packages (from matplotlib->fastai) (3.0.7)\n",
      "Requirement already satisfied: pytz>=2020.1 in /home/ciprian/.local/lib/python3.10/site-packages (from pandas->fastai) (2023.2)\n",
      "Requirement already satisfied: threadpoolctl>=2.0.0 in /home/ciprian/.local/lib/python3.10/site-packages (from scikit-learn->fastai) (3.1.0)\n",
      "Requirement already satisfied: joblib>=1.1.1 in /home/ciprian/.local/lib/python3.10/site-packages (from scikit-learn->fastai) (1.2.0)\n",
      "Requirement already satisfied: six>=1.5 in /usr/lib/python3/dist-packages (from python-dateutil>=2.7->matplotlib->fastai) (1.16.0)\n",
      "Requirement already satisfied: blis<0.8.0,>=0.7.8 in /home/ciprian/.local/lib/python3.10/site-packages (from thinc<8.2.0,>=8.1.8->spacy<4->fastai) (0.7.9)\n",
      "Requirement already satisfied: confection<1.0.0,>=0.0.1 in /home/ciprian/.local/lib/python3.10/site-packages (from thinc<8.2.0,>=8.1.8->spacy<4->fastai) (0.0.4)\n",
      "Requirement already satisfied: click<9.0.0,>=7.1.1 in /usr/lib/python3/dist-packages (from typer<0.8.0,>=0.3.0->spacy<4->fastai) (8.0.3)\n",
      "Requirement already satisfied: MarkupSafe>=2.0 in /usr/lib/python3/dist-packages (from jinja2->spacy<4->fastai) (2.0.1)\n",
      "Defaulting to user installation because normal site-packages is not writeable\n",
      "Requirement already satisfied: fastcore in /home/ciprian/.local/lib/python3.10/site-packages (1.5.28)\n",
      "Requirement already satisfied: pip in /usr/lib/python3/dist-packages (from fastcore) (22.2)\n",
      "Requirement already satisfied: packaging in /home/ciprian/.local/lib/python3.10/site-packages (from fastcore) (23.0)\n",
      "Defaulting to user installation because normal site-packages is not writeable\n",
      "Collecting wwf\n",
      "  Downloading wwf-0.0.16-py3-none-any.whl (20 kB)\n"
     ]
    },
    {
     "name": "stdout",
     "output_type": "stream",
     "text": [
      "Requirement already satisfied: fastai>=2.0.0 in /home/ciprian/.local/lib/python3.10/site-packages (from wwf) (2.7.11)\n",
      "Collecting timm>=0.3.4\n",
      "  Downloading timm-0.6.13-py3-none-any.whl (549 kB)\n",
      "\u001b[2K     \u001b[38;2;114;156;31m━━━━━━━━━━━━━━━━━━━━━━━━━━━━━━━━━━━━━━━\u001b[0m \u001b[32m549.1/549.1 kB\u001b[0m \u001b[31m4.5 MB/s\u001b[0m eta \u001b[36m0:00:00\u001b[0m[31m4.2 MB/s\u001b[0m eta \u001b[36m0:00:01\u001b[0m\n",
      "\u001b[?25hRequirement already satisfied: fastcore>=1.0.0 in /home/ciprian/.local/lib/python3.10/site-packages (from wwf) (1.5.28)\n",
      "Requirement already satisfied: pillow>6.0.0 in /usr/lib/python3/dist-packages (from fastai>=2.0.0->wwf) (9.2.0)\n",
      "Requirement already satisfied: torch<1.14,>=1.7 in /home/ciprian/.local/lib/python3.10/site-packages (from fastai>=2.0.0->wwf) (1.13.1)\n",
      "Requirement already satisfied: pandas in /home/ciprian/.local/lib/python3.10/site-packages (from fastai>=2.0.0->wwf) (1.5.3)\n",
      "Requirement already satisfied: scikit-learn in /home/ciprian/.local/lib/python3.10/site-packages (from fastai>=2.0.0->wwf) (1.2.2)\n",
      "Requirement already satisfied: pyyaml in /usr/lib/python3/dist-packages (from fastai>=2.0.0->wwf) (5.4.1)\n",
      "Requirement already satisfied: fastprogress>=0.2.4 in /home/ciprian/.local/lib/python3.10/site-packages (from fastai>=2.0.0->wwf) (1.0.3)\n",
      "Requirement already satisfied: torchvision>=0.8.2 in /home/ciprian/.local/lib/python3.10/site-packages (from fastai>=2.0.0->wwf) (0.14.1)\n",
      "Requirement already satisfied: packaging in /home/ciprian/.local/lib/python3.10/site-packages (from fastai>=2.0.0->wwf) (23.0)\n",
      "Requirement already satisfied: pip in /usr/lib/python3/dist-packages (from fastai>=2.0.0->wwf) (22.2)\n",
      "Requirement already satisfied: requests in /home/ciprian/.local/lib/python3.10/site-packages (from fastai>=2.0.0->wwf) (2.28.2)\n",
      "Requirement already satisfied: matplotlib in /home/ciprian/.local/lib/python3.10/site-packages (from fastai>=2.0.0->wwf) (3.7.1)\n",
      "Requirement already satisfied: scipy in /home/ciprian/.local/lib/python3.10/site-packages (from fastai>=2.0.0->wwf) (1.10.1)\n",
      "Requirement already satisfied: spacy<4 in /home/ciprian/.local/lib/python3.10/site-packages (from fastai>=2.0.0->wwf) (3.5.1)\n",
      "Requirement already satisfied: fastdownload<2,>=0.0.5 in /home/ciprian/.local/lib/python3.10/site-packages (from fastai>=2.0.0->wwf) (0.0.7)\n",
      "Collecting huggingface-hub\n",
      "  Downloading huggingface_hub-0.13.3-py3-none-any.whl (199 kB)\n",
      "\u001b[2K     \u001b[38;2;114;156;31m━━━━━━━━━━━━━━━━━━━━━━━━━━━━━━━━━━━━━━\u001b[0m \u001b[32m199.8/199.8 kB\u001b[0m \u001b[31m29.4 MB/s\u001b[0m eta \u001b[36m0:00:00\u001b[0m\n",
      "\u001b[?25hRequirement already satisfied: srsly<3.0.0,>=2.4.3 in /home/ciprian/.local/lib/python3.10/site-packages (from spacy<4->fastai>=2.0.0->wwf) (2.4.6)\n",
      "Requirement already satisfied: langcodes<4.0.0,>=3.2.0 in /home/ciprian/.local/lib/python3.10/site-packages (from spacy<4->fastai>=2.0.0->wwf) (3.3.0)\n",
      "Requirement already satisfied: preshed<3.1.0,>=3.0.2 in /home/ciprian/.local/lib/python3.10/site-packages (from spacy<4->fastai>=2.0.0->wwf) (3.0.8)\n",
      "Requirement already satisfied: catalogue<2.1.0,>=2.0.6 in /home/ciprian/.local/lib/python3.10/site-packages (from spacy<4->fastai>=2.0.0->wwf) (2.0.8)\n",
      "Requirement already satisfied: spacy-legacy<3.1.0,>=3.0.11 in /home/ciprian/.local/lib/python3.10/site-packages (from spacy<4->fastai>=2.0.0->wwf) (3.0.12)\n",
      "Requirement already satisfied: typer<0.8.0,>=0.3.0 in /home/ciprian/.local/lib/python3.10/site-packages (from spacy<4->fastai>=2.0.0->wwf) (0.7.0)\n",
      "Requirement already satisfied: murmurhash<1.1.0,>=0.28.0 in /home/ciprian/.local/lib/python3.10/site-packages (from spacy<4->fastai>=2.0.0->wwf) (1.0.9)\n",
      "Requirement already satisfied: setuptools in /usr/lib/python3/dist-packages (from spacy<4->fastai>=2.0.0->wwf) (59.6.0)\n",
      "Requirement already satisfied: spacy-loggers<2.0.0,>=1.0.0 in /home/ciprian/.local/lib/python3.10/site-packages (from spacy<4->fastai>=2.0.0->wwf) (1.0.4)\n",
      "Requirement already satisfied: jinja2 in /home/ciprian/.local/lib/python3.10/site-packages (from spacy<4->fastai>=2.0.0->wwf) (3.1.2)\n",
      "Requirement already satisfied: numpy>=1.15.0 in /home/ciprian/.local/lib/python3.10/site-packages (from spacy<4->fastai>=2.0.0->wwf) (1.24.2)\n",
      "Requirement already satisfied: tqdm<5.0.0,>=4.38.0 in /home/ciprian/.local/lib/python3.10/site-packages (from spacy<4->fastai>=2.0.0->wwf) (4.65.0)\n",
      "Requirement already satisfied: wasabi<1.2.0,>=0.9.1 in /home/ciprian/.local/lib/python3.10/site-packages (from spacy<4->fastai>=2.0.0->wwf) (1.1.1)\n",
      "Requirement already satisfied: pathy>=0.10.0 in /home/ciprian/.local/lib/python3.10/site-packages (from spacy<4->fastai>=2.0.0->wwf) (0.10.1)\n",
      "Requirement already satisfied: smart-open<7.0.0,>=5.2.1 in /home/ciprian/.local/lib/python3.10/site-packages (from spacy<4->fastai>=2.0.0->wwf) (6.3.0)\n",
      "Requirement already satisfied: pydantic!=1.8,!=1.8.1,<1.11.0,>=1.7.4 in /home/ciprian/.local/lib/python3.10/site-packages (from spacy<4->fastai>=2.0.0->wwf) (1.10.7)\n",
      "Requirement already satisfied: cymem<2.1.0,>=2.0.2 in /home/ciprian/.local/lib/python3.10/site-packages (from spacy<4->fastai>=2.0.0->wwf) (2.0.7)\n",
      "Requirement already satisfied: thinc<8.2.0,>=8.1.8 in /home/ciprian/.local/lib/python3.10/site-packages (from spacy<4->fastai>=2.0.0->wwf) (8.1.9)\n",
      "Requirement already satisfied: urllib3<1.27,>=1.21.1 in /usr/lib/python3/dist-packages (from requests->fastai>=2.0.0->wwf) (1.26.9)\n",
      "Requirement already satisfied: charset-normalizer<4,>=2 in /home/ciprian/.local/lib/python3.10/site-packages (from requests->fastai>=2.0.0->wwf) (3.1.0)\n",
      "Requirement already satisfied: certifi>=2017.4.17 in /home/ciprian/.local/lib/python3.10/site-packages (from requests->fastai>=2.0.0->wwf) (2022.12.7)\n",
      "Requirement already satisfied: idna<4,>=2.5 in /home/ciprian/.local/lib/python3.10/site-packages (from requests->fastai>=2.0.0->wwf) (3.4)\n",
      "Requirement already satisfied: nvidia-cuda-runtime-cu11==11.7.99 in /home/ciprian/.local/lib/python3.10/site-packages (from torch<1.14,>=1.7->fastai>=2.0.0->wwf) (11.7.99)\n",
      "Requirement already satisfied: nvidia-cuda-nvrtc-cu11==11.7.99 in /home/ciprian/.local/lib/python3.10/site-packages (from torch<1.14,>=1.7->fastai>=2.0.0->wwf) (11.7.99)\n",
      "Requirement already satisfied: typing-extensions in /home/ciprian/.local/lib/python3.10/site-packages (from torch<1.14,>=1.7->fastai>=2.0.0->wwf) (4.5.0)\n",
      "Requirement already satisfied: nvidia-cudnn-cu11==8.5.0.96 in /home/ciprian/.local/lib/python3.10/site-packages (from torch<1.14,>=1.7->fastai>=2.0.0->wwf) (8.5.0.96)\n",
      "Requirement already satisfied: nvidia-cublas-cu11==11.10.3.66 in /home/ciprian/.local/lib/python3.10/site-packages (from torch<1.14,>=1.7->fastai>=2.0.0->wwf) (11.10.3.66)\n",
      "Requirement already satisfied: wheel in /usr/lib/python3/dist-packages (from nvidia-cublas-cu11==11.10.3.66->torch<1.14,>=1.7->fastai>=2.0.0->wwf) (0.37.1)\n",
      "Collecting filelock\n",
      "  Using cached filelock-3.10.7-py3-none-any.whl (10 kB)\n",
      "Requirement already satisfied: pyparsing>=2.3.1 in /usr/lib/python3/dist-packages (from matplotlib->fastai>=2.0.0->wwf) (3.0.7)\n",
      "Requirement already satisfied: python-dateutil>=2.7 in /home/ciprian/.local/lib/python3.10/site-packages (from matplotlib->fastai>=2.0.0->wwf) (2.8.2)\n",
      "Requirement already satisfied: fonttools>=4.22.0 in /home/ciprian/.local/lib/python3.10/site-packages (from matplotlib->fastai>=2.0.0->wwf) (4.39.3)\n",
      "Requirement already satisfied: cycler>=0.10 in /home/ciprian/.local/lib/python3.10/site-packages (from matplotlib->fastai>=2.0.0->wwf) (0.11.0)\n",
      "Requirement already satisfied: contourpy>=1.0.1 in /home/ciprian/.local/lib/python3.10/site-packages (from matplotlib->fastai>=2.0.0->wwf) (1.0.7)\n",
      "Requirement already satisfied: kiwisolver>=1.0.1 in /home/ciprian/.local/lib/python3.10/site-packages (from matplotlib->fastai>=2.0.0->wwf) (1.4.4)\n",
      "Requirement already satisfied: pytz>=2020.1 in /home/ciprian/.local/lib/python3.10/site-packages (from pandas->fastai>=2.0.0->wwf) (2023.2)\n",
      "Requirement already satisfied: joblib>=1.1.1 in /home/ciprian/.local/lib/python3.10/site-packages (from scikit-learn->fastai>=2.0.0->wwf) (1.2.0)\n",
      "Requirement already satisfied: threadpoolctl>=2.0.0 in /home/ciprian/.local/lib/python3.10/site-packages (from scikit-learn->fastai>=2.0.0->wwf) (3.1.0)\n",
      "Requirement already satisfied: six>=1.5 in /usr/lib/python3/dist-packages (from python-dateutil>=2.7->matplotlib->fastai>=2.0.0->wwf) (1.16.0)\n",
      "Requirement already satisfied: blis<0.8.0,>=0.7.8 in /home/ciprian/.local/lib/python3.10/site-packages (from thinc<8.2.0,>=8.1.8->spacy<4->fastai>=2.0.0->wwf) (0.7.9)\n",
      "Requirement already satisfied: confection<1.0.0,>=0.0.1 in /home/ciprian/.local/lib/python3.10/site-packages (from thinc<8.2.0,>=8.1.8->spacy<4->fastai>=2.0.0->wwf) (0.0.4)\n"
     ]
    },
    {
     "name": "stdout",
     "output_type": "stream",
     "text": [
      "Requirement already satisfied: click<9.0.0,>=7.1.1 in /usr/lib/python3/dist-packages (from typer<0.8.0,>=0.3.0->spacy<4->fastai>=2.0.0->wwf) (8.0.3)\n",
      "Requirement already satisfied: MarkupSafe>=2.0 in /usr/lib/python3/dist-packages (from jinja2->spacy<4->fastai>=2.0.0->wwf) (2.0.1)\n",
      "Installing collected packages: filelock, huggingface-hub, timm, wwf\n",
      "Successfully installed filelock-3.10.7 huggingface-hub-0.13.3 timm-0.6.13 wwf-0.0.16\n"
     ]
    }
   ],
   "source": [
    "# !pip install fastai\n",
    "# !pip install fastcore\n",
    "# !pip install wwf"
   ]
  },
  {
   "cell_type": "code",
   "execution_count": 22,
   "id": "b10fb110",
   "metadata": {
    "executionInfo": {
     "elapsed": 462,
     "status": "ok",
     "timestamp": 1679945594049,
     "user": {
      "displayName": "Ciprian Turcu",
      "userId": "13080297920722879170"
     },
     "user_tz": -180
    },
    "id": "1a5e2789"
   },
   "outputs": [],
   "source": [
    "\n",
    "from fastai.vision.all import *\n"
   ]
  },
  {
   "cell_type": "code",
   "execution_count": 23,
   "id": "6b0c3295",
   "metadata": {
    "executionInfo": {
     "elapsed": 451,
     "status": "ok",
     "timestamp": 1679945599291,
     "user": {
      "displayName": "Ciprian Turcu",
      "userId": "13080297920722879170"
     },
     "user_tz": -180
    },
    "id": "6b0c3295"
   },
   "outputs": [],
   "source": [
    "path = Path('./data/')"
   ]
  },
  {
   "cell_type": "code",
   "execution_count": 24,
   "id": "e0d25c84",
   "metadata": {
    "executionInfo": {
     "elapsed": 1,
     "status": "ok",
     "timestamp": 1679945599291,
     "user": {
      "displayName": "Ciprian Turcu",
      "userId": "13080297920722879170"
     },
     "user_tz": -180
    },
    "id": "e0d25c84"
   },
   "outputs": [],
   "source": [
    "lbl_names = get_image_files('./data/GT_png')\n",
    "fnames = get_image_files('./data/images')"
   ]
  },
  {
   "cell_type": "code",
   "execution_count": 25,
   "id": "5d4fb556",
   "metadata": {
    "colab": {
     "base_uri": "https://localhost:8080/"
    },
    "executionInfo": {
     "elapsed": 475,
     "status": "ok",
     "timestamp": 1679945600364,
     "user": {
      "displayName": "Ciprian Turcu",
      "userId": "13080297920722879170"
     },
     "user_tz": -180
    },
    "id": "5d4fb556",
    "outputId": "bf330d8c-3b1b-4d33-cf8b-f7d9042dea77"
   },
   "outputs": [
    {
     "data": {
      "text/plain": [
       "Path('data/images/00346.png')"
      ]
     },
     "execution_count": 25,
     "metadata": {},
     "output_type": "execute_result"
    }
   ],
   "source": [
    "img_fn = fnames[2]; img_fn"
   ]
  },
  {
   "cell_type": "code",
   "execution_count": 26,
   "id": "7de64aef",
   "metadata": {
    "colab": {
     "base_uri": "https://localhost:8080/"
    },
    "executionInfo": {
     "elapsed": 2,
     "status": "ok",
     "timestamp": 1679945600364,
     "user": {
      "displayName": "Ciprian Turcu",
      "userId": "13080297920722879170"
     },
     "user_tz": -180
    },
    "id": "7de64aef",
    "outputId": "4a4d4647-3a9e-4b67-f505-10a2e6273831"
   },
   "outputs": [
    {
     "data": {
      "text/plain": [
       "Path('data/GT_png/00346_mask.png')"
      ]
     },
     "execution_count": 26,
     "metadata": {},
     "output_type": "execute_result"
    }
   ],
   "source": [
    "lbl_names[2]"
   ]
  },
  {
   "cell_type": "code",
   "execution_count": 27,
   "id": "191fefb7",
   "metadata": {
    "executionInfo": {
     "elapsed": 1,
     "status": "ok",
     "timestamp": 1679945600364,
     "user": {
      "displayName": "Ciprian Turcu",
      "userId": "13080297920722879170"
     },
     "user_tz": -180
    },
    "id": "191fefb7"
   },
   "outputs": [],
   "source": [
    "im = PILImage.create('./data/images/00007.png')"
   ]
  },
  {
   "cell_type": "code",
   "execution_count": 28,
   "id": "861b79ac",
   "metadata": {
    "executionInfo": {
     "elapsed": 2,
     "status": "ok",
     "timestamp": 1679945600908,
     "user": {
      "displayName": "Ciprian Turcu",
      "userId": "13080297920722879170"
     },
     "user_tz": -180
    },
    "id": "861b79ac"
   },
   "outputs": [],
   "source": [
    "msk = PILMask.create('data/GT_png/00007_mask.png')"
   ]
  },
  {
   "cell_type": "code",
   "execution_count": 29,
   "id": "a0f38fa0",
   "metadata": {
    "colab": {
     "base_uri": "https://localhost:8080/"
    },
    "executionInfo": {
     "elapsed": 6,
     "status": "ok",
     "timestamp": 1679945601921,
     "user": {
      "displayName": "Ciprian Turcu",
      "userId": "13080297920722879170"
     },
     "user_tz": -180
    },
    "id": "a0f38fa0",
    "outputId": "eafcfc49-f033-4b47-9019-f15743d77718"
   },
   "outputs": [
    {
     "data": {
      "text/plain": [
       "2"
      ]
     },
     "execution_count": 29,
     "metadata": {},
     "output_type": "execute_result"
    }
   ],
   "source": [
    "len(np.unique(msk))"
   ]
  },
  {
   "cell_type": "code",
   "execution_count": 30,
   "id": "f8f2708a",
   "metadata": {
    "colab": {
     "base_uri": "https://localhost:8080/"
    },
    "executionInfo": {
     "elapsed": 6,
     "status": "ok",
     "timestamp": 1679945601922,
     "user": {
      "displayName": "Ciprian Turcu",
      "userId": "13080297920722879170"
     },
     "user_tz": -180
    },
    "id": "f8f2708a",
    "outputId": "935ae564-28be-4b54-fe70-7435cdff4301"
   },
   "outputs": [
    {
     "data": {
      "text/plain": [
       "array([ 0, 39], dtype=uint8)"
      ]
     },
     "execution_count": 30,
     "metadata": {},
     "output_type": "execute_result"
    }
   ],
   "source": [
    "np.unique(msk)"
   ]
  },
  {
   "cell_type": "code",
   "execution_count": 31,
   "id": "dea1d8a2",
   "metadata": {
    "executionInfo": {
     "elapsed": 3,
     "status": "ok",
     "timestamp": 1679945601922,
     "user": {
      "displayName": "Ciprian Turcu",
      "userId": "13080297920722879170"
     },
     "user_tz": -180
    },
    "id": "dea1d8a2"
   },
   "outputs": [],
   "source": [
    "def n_codes(fnames, is_partial=True):\n",
    "#   \"Gather the codes from a list of `fnames`\"\n",
    "  vals = set()\n",
    "  if is_partial:\n",
    "    random.shuffle(fnames)\n",
    "    fnames = fnames[:10]\n",
    "  for fname in fnames:\n",
    "    msk = np.array(PILMask.create(fname))\n",
    "    for val in np.unique(msk):\n",
    "      if val not in vals:\n",
    "        vals.add(val)\n",
    "  vals = list(vals)\n",
    "  p2c = dict()\n",
    "  for i,val in enumerate(vals):\n",
    "    p2c[i] = vals[i]\n",
    "  return p2c"
   ]
  },
  {
   "cell_type": "code",
   "execution_count": 32,
   "id": "ce1f56a5",
   "metadata": {
    "executionInfo": {
     "elapsed": 5,
     "status": "ok",
     "timestamp": 1679945602313,
     "user": {
      "displayName": "Ciprian Turcu",
      "userId": "13080297920722879170"
     },
     "user_tz": -180
    },
    "id": "ce1f56a5"
   },
   "outputs": [],
   "source": [
    "p2c = n_codes(lbl_names)"
   ]
  },
  {
   "cell_type": "code",
   "execution_count": 33,
   "id": "c78c3400",
   "metadata": {
    "colab": {
     "base_uri": "https://localhost:8080/"
    },
    "executionInfo": {
     "elapsed": 5,
     "status": "ok",
     "timestamp": 1679945602313,
     "user": {
      "displayName": "Ciprian Turcu",
      "userId": "13080297920722879170"
     },
     "user_tz": -180
    },
    "id": "c78c3400",
    "outputId": "efa88e5a-00f5-48ef-fbd7-c1eea3775fb2"
   },
   "outputs": [
    {
     "data": {
      "text/plain": [
       "{0: 0, 1: 39}"
      ]
     },
     "execution_count": 33,
     "metadata": {},
     "output_type": "execute_result"
    }
   ],
   "source": [
    "p2c"
   ]
  },
  {
   "cell_type": "code",
   "execution_count": 34,
   "id": "9288f901",
   "metadata": {
    "executionInfo": {
     "elapsed": 4,
     "status": "ok",
     "timestamp": 1679945602314,
     "user": {
      "displayName": "Ciprian Turcu",
      "userId": "13080297920722879170"
     },
     "user_tz": -180
    },
    "id": "9288f901"
   },
   "outputs": [],
   "source": [
    "def get_msk(fn, p2c):\n",
    "#   \"Grab a mask from a `filename` and adjust the pixels based on `pix2class`\"\n",
    "  fn = path/'GT_png'/f'{fn.stem}_mask.png'\n",
    "  msk = np.array(PILMask.create(fn))\n",
    "  mx = np.max(msk)\n",
    "  for i, val in enumerate(p2c):\n",
    "    msk[msk==p2c[i]] = val\n",
    "  return PILMask.create(msk)"
   ]
  },
  {
   "cell_type": "code",
   "execution_count": 35,
   "id": "649b2ee4",
   "metadata": {
    "executionInfo": {
     "elapsed": 4,
     "status": "ok",
     "timestamp": 1679945602314,
     "user": {
      "displayName": "Ciprian Turcu",
      "userId": "13080297920722879170"
     },
     "user_tz": -180
    },
    "id": "649b2ee4"
   },
   "outputs": [],
   "source": [
    "codes = ['Background', 'Wheel']"
   ]
  },
  {
   "cell_type": "code",
   "execution_count": 36,
   "id": "ff4a2277",
   "metadata": {
    "executionInfo": {
     "elapsed": 4,
     "status": "ok",
     "timestamp": 1679945602314,
     "user": {
      "displayName": "Ciprian Turcu",
      "userId": "13080297920722879170"
     },
     "user_tz": -180
    },
    "id": "ff4a2277"
   },
   "outputs": [],
   "source": [
    "get_y = lambda o: get_msk(o, p2c)"
   ]
  },
  {
   "cell_type": "code",
   "execution_count": 37,
   "id": "76f6982a",
   "metadata": {
    "executionInfo": {
     "elapsed": 6,
     "status": "ok",
     "timestamp": 1679945604022,
     "user": {
      "displayName": "Ciprian Turcu",
      "userId": "13080297920722879170"
     },
     "user_tz": -180
    },
    "id": "76f6982a"
   },
   "outputs": [],
   "source": [
    "binary = DataBlock(blocks=(ImageBlock, MaskBlock(codes)),\n",
    "                   get_items=get_image_files,\n",
    "                   splitter=RandomSplitter(),\n",
    "                   get_y=get_y,\n",
    "                   item_tfms=Resize(224),\n",
    "                   batch_tfms=[Normalize.from_stats(*imagenet_stats)])"
   ]
  },
  {
   "cell_type": "code",
   "execution_count": 38,
   "id": "C0W0Z1jSITaV",
   "metadata": {
    "colab": {
     "base_uri": "https://localhost:8080/",
     "height": 201
    },
    "executionInfo": {
     "elapsed": 6,
     "status": "error",
     "timestamp": 1679945604023,
     "user": {
      "displayName": "Ciprian Turcu",
      "userId": "13080297920722879170"
     },
     "user_tz": -180
    },
    "id": "C0W0Z1jSITaV",
    "outputId": "c64c7077-ceb5-4874-dc5d-4a1fa70cbd05"
   },
   "outputs": [],
   "source": [
    "# from PIL import Image\n",
    "# test = PIL.Image.open('./data/images/00007.png')\n",
    "# test"
   ]
  },
  {
   "cell_type": "code",
   "execution_count": 45,
   "id": "30339033",
   "metadata": {},
   "outputs": [],
   "source": [
    "path_im = path/'images'"
   ]
  },
  {
   "cell_type": "code",
   "execution_count": 46,
   "id": "92fd72c2",
   "metadata": {
    "colab": {
     "base_uri": "https://localhost:8080/",
     "height": 1000
    },
    "executionInfo": {
     "elapsed": 6,
     "status": "error",
     "timestamp": 1679938277656,
     "user": {
      "displayName": "Ciprian Turcu",
      "userId": "13080297920722879170"
     },
     "user_tz": -180
    },
    "id": "92fd72c2",
    "outputId": "dfc2fb0b-312b-4e5b-e20c-63918834d10f"
   },
   "outputs": [
    {
     "ename": "AttributeError",
     "evalue": "read",
     "output_type": "error",
     "traceback": [
      "\u001b[0;31m---------------------------------------------------------------------------\u001b[0m",
      "\u001b[0;31mAttributeError\u001b[0m                            Traceback (most recent call last)",
      "Cell \u001b[0;32mIn[46], line 1\u001b[0m\n\u001b[0;32m----> 1\u001b[0m dls \u001b[38;5;241m=\u001b[39m \u001b[43mbinary\u001b[49m\u001b[38;5;241;43m.\u001b[39;49m\u001b[43mdataloaders\u001b[49m\u001b[43m(\u001b[49m\u001b[43mpath_im\u001b[49m\u001b[43m,\u001b[49m\u001b[43m \u001b[49m\u001b[43mbs\u001b[49m\u001b[38;5;241;43m=\u001b[39;49m\u001b[38;5;241;43m2\u001b[39;49m\u001b[43m)\u001b[49m\n",
      "File \u001b[0;32m~/.local/lib/python3.10/site-packages/fastai/data/block.py:155\u001b[0m, in \u001b[0;36mDataBlock.dataloaders\u001b[0;34m(self, source, path, verbose, **kwargs)\u001b[0m\n\u001b[1;32m    149\u001b[0m \u001b[38;5;28;01mdef\u001b[39;00m \u001b[38;5;21mdataloaders\u001b[39m(\u001b[38;5;28mself\u001b[39m, \n\u001b[1;32m    150\u001b[0m     source, \u001b[38;5;66;03m# The data source\u001b[39;00m\n\u001b[1;32m    151\u001b[0m     path:\u001b[38;5;28mstr\u001b[39m\u001b[38;5;241m=\u001b[39m\u001b[38;5;124m'\u001b[39m\u001b[38;5;124m.\u001b[39m\u001b[38;5;124m'\u001b[39m, \u001b[38;5;66;03m# Data source and default `Learner` path \u001b[39;00m\n\u001b[1;32m    152\u001b[0m     verbose:\u001b[38;5;28mbool\u001b[39m\u001b[38;5;241m=\u001b[39m\u001b[38;5;28;01mFalse\u001b[39;00m, \u001b[38;5;66;03m# Show verbose messages\u001b[39;00m\n\u001b[1;32m    153\u001b[0m     \u001b[38;5;241m*\u001b[39m\u001b[38;5;241m*\u001b[39mkwargs\n\u001b[1;32m    154\u001b[0m ) \u001b[38;5;241m-\u001b[39m\u001b[38;5;241m>\u001b[39m DataLoaders:\n\u001b[0;32m--> 155\u001b[0m     dsets \u001b[38;5;241m=\u001b[39m \u001b[38;5;28;43mself\u001b[39;49m\u001b[38;5;241;43m.\u001b[39;49m\u001b[43mdatasets\u001b[49m\u001b[43m(\u001b[49m\u001b[43msource\u001b[49m\u001b[43m,\u001b[49m\u001b[43m \u001b[49m\u001b[43mverbose\u001b[49m\u001b[38;5;241;43m=\u001b[39;49m\u001b[43mverbose\u001b[49m\u001b[43m)\u001b[49m\n\u001b[1;32m    156\u001b[0m     kwargs \u001b[38;5;241m=\u001b[39m {\u001b[38;5;241m*\u001b[39m\u001b[38;5;241m*\u001b[39m\u001b[38;5;28mself\u001b[39m\u001b[38;5;241m.\u001b[39mdls_kwargs, \u001b[38;5;241m*\u001b[39m\u001b[38;5;241m*\u001b[39mkwargs, \u001b[38;5;124m'\u001b[39m\u001b[38;5;124mverbose\u001b[39m\u001b[38;5;124m'\u001b[39m: verbose}\n\u001b[1;32m    157\u001b[0m     \u001b[38;5;28;01mreturn\u001b[39;00m dsets\u001b[38;5;241m.\u001b[39mdataloaders(path\u001b[38;5;241m=\u001b[39mpath, after_item\u001b[38;5;241m=\u001b[39m\u001b[38;5;28mself\u001b[39m\u001b[38;5;241m.\u001b[39mitem_tfms, after_batch\u001b[38;5;241m=\u001b[39m\u001b[38;5;28mself\u001b[39m\u001b[38;5;241m.\u001b[39mbatch_tfms, \u001b[38;5;241m*\u001b[39m\u001b[38;5;241m*\u001b[39mkwargs)\n",
      "File \u001b[0;32m~/.local/lib/python3.10/site-packages/fastai/data/block.py:147\u001b[0m, in \u001b[0;36mDataBlock.datasets\u001b[0;34m(self, source, verbose)\u001b[0m\n\u001b[1;32m    145\u001b[0m splits \u001b[38;5;241m=\u001b[39m (\u001b[38;5;28mself\u001b[39m\u001b[38;5;241m.\u001b[39msplitter \u001b[38;5;129;01mor\u001b[39;00m RandomSplitter())(items)\n\u001b[1;32m    146\u001b[0m pv(\u001b[38;5;124mf\u001b[39m\u001b[38;5;124m\"\u001b[39m\u001b[38;5;132;01m{\u001b[39;00m\u001b[38;5;28mlen\u001b[39m(splits)\u001b[38;5;132;01m}\u001b[39;00m\u001b[38;5;124m datasets of sizes \u001b[39m\u001b[38;5;132;01m{\u001b[39;00m\u001b[38;5;124m'\u001b[39m\u001b[38;5;124m,\u001b[39m\u001b[38;5;124m'\u001b[39m\u001b[38;5;241m.\u001b[39mjoin([\u001b[38;5;28mstr\u001b[39m(\u001b[38;5;28mlen\u001b[39m(s))\u001b[38;5;250m \u001b[39m\u001b[38;5;28;01mfor\u001b[39;00m\u001b[38;5;250m \u001b[39ms\u001b[38;5;250m \u001b[39m\u001b[38;5;129;01min\u001b[39;00m\u001b[38;5;250m \u001b[39msplits])\u001b[38;5;132;01m}\u001b[39;00m\u001b[38;5;124m\"\u001b[39m, verbose)\n\u001b[0;32m--> 147\u001b[0m \u001b[38;5;28;01mreturn\u001b[39;00m \u001b[43mDatasets\u001b[49m\u001b[43m(\u001b[49m\u001b[43mitems\u001b[49m\u001b[43m,\u001b[49m\u001b[43m \u001b[49m\u001b[43mtfms\u001b[49m\u001b[38;5;241;43m=\u001b[39;49m\u001b[38;5;28;43mself\u001b[39;49m\u001b[38;5;241;43m.\u001b[39;49m\u001b[43m_combine_type_tfms\u001b[49m\u001b[43m(\u001b[49m\u001b[43m)\u001b[49m\u001b[43m,\u001b[49m\u001b[43m \u001b[49m\u001b[43msplits\u001b[49m\u001b[38;5;241;43m=\u001b[39;49m\u001b[43msplits\u001b[49m\u001b[43m,\u001b[49m\u001b[43m \u001b[49m\u001b[43mdl_type\u001b[49m\u001b[38;5;241;43m=\u001b[39;49m\u001b[38;5;28;43mself\u001b[39;49m\u001b[38;5;241;43m.\u001b[39;49m\u001b[43mdl_type\u001b[49m\u001b[43m,\u001b[49m\u001b[43m \u001b[49m\u001b[43mn_inp\u001b[49m\u001b[38;5;241;43m=\u001b[39;49m\u001b[38;5;28;43mself\u001b[39;49m\u001b[38;5;241;43m.\u001b[39;49m\u001b[43mn_inp\u001b[49m\u001b[43m,\u001b[49m\u001b[43m \u001b[49m\u001b[43mverbose\u001b[49m\u001b[38;5;241;43m=\u001b[39;49m\u001b[43mverbose\u001b[49m\u001b[43m)\u001b[49m\n",
      "File \u001b[0;32m~/.local/lib/python3.10/site-packages/fastai/data/core.py:454\u001b[0m, in \u001b[0;36mDatasets.__init__\u001b[0;34m(self, items, tfms, tls, n_inp, dl_type, **kwargs)\u001b[0m\n\u001b[1;32m    445\u001b[0m \u001b[38;5;28;01mdef\u001b[39;00m \u001b[38;5;21m__init__\u001b[39m(\u001b[38;5;28mself\u001b[39m, \n\u001b[1;32m    446\u001b[0m     items:\u001b[38;5;28mlist\u001b[39m\u001b[38;5;241m=\u001b[39m\u001b[38;5;28;01mNone\u001b[39;00m, \u001b[38;5;66;03m# List of items to create `Datasets`\u001b[39;00m\n\u001b[1;32m    447\u001b[0m     tfms:MutableSequence\u001b[38;5;241m|\u001b[39mPipeline\u001b[38;5;241m=\u001b[39m\u001b[38;5;28;01mNone\u001b[39;00m, \u001b[38;5;66;03m# List of `Transform`(s) or `Pipeline` to apply\u001b[39;00m\n\u001b[0;32m   (...)\u001b[0m\n\u001b[1;32m    451\u001b[0m     \u001b[38;5;241m*\u001b[39m\u001b[38;5;241m*\u001b[39mkwargs\n\u001b[1;32m    452\u001b[0m ):\n\u001b[1;32m    453\u001b[0m     \u001b[38;5;28msuper\u001b[39m()\u001b[38;5;241m.\u001b[39m\u001b[38;5;21m__init__\u001b[39m(dl_type\u001b[38;5;241m=\u001b[39mdl_type)\n\u001b[0;32m--> 454\u001b[0m     \u001b[38;5;28mself\u001b[39m\u001b[38;5;241m.\u001b[39mtls \u001b[38;5;241m=\u001b[39m L(tls \u001b[38;5;28;01mif\u001b[39;00m tls \u001b[38;5;28;01melse\u001b[39;00m [TfmdLists(items, t, \u001b[38;5;241m*\u001b[39m\u001b[38;5;241m*\u001b[39mkwargs) \u001b[38;5;28;01mfor\u001b[39;00m t \u001b[38;5;129;01min\u001b[39;00m L(ifnone(tfms,[\u001b[38;5;28;01mNone\u001b[39;00m]))])\n\u001b[1;32m    455\u001b[0m     \u001b[38;5;28mself\u001b[39m\u001b[38;5;241m.\u001b[39mn_inp \u001b[38;5;241m=\u001b[39m ifnone(n_inp, \u001b[38;5;28mmax\u001b[39m(\u001b[38;5;241m1\u001b[39m, \u001b[38;5;28mlen\u001b[39m(\u001b[38;5;28mself\u001b[39m\u001b[38;5;241m.\u001b[39mtls)\u001b[38;5;241m-\u001b[39m\u001b[38;5;241m1\u001b[39m))\n",
      "File \u001b[0;32m~/.local/lib/python3.10/site-packages/fastai/data/core.py:454\u001b[0m, in \u001b[0;36m<listcomp>\u001b[0;34m(.0)\u001b[0m\n\u001b[1;32m    445\u001b[0m \u001b[38;5;28;01mdef\u001b[39;00m \u001b[38;5;21m__init__\u001b[39m(\u001b[38;5;28mself\u001b[39m, \n\u001b[1;32m    446\u001b[0m     items:\u001b[38;5;28mlist\u001b[39m\u001b[38;5;241m=\u001b[39m\u001b[38;5;28;01mNone\u001b[39;00m, \u001b[38;5;66;03m# List of items to create `Datasets`\u001b[39;00m\n\u001b[1;32m    447\u001b[0m     tfms:MutableSequence\u001b[38;5;241m|\u001b[39mPipeline\u001b[38;5;241m=\u001b[39m\u001b[38;5;28;01mNone\u001b[39;00m, \u001b[38;5;66;03m# List of `Transform`(s) or `Pipeline` to apply\u001b[39;00m\n\u001b[0;32m   (...)\u001b[0m\n\u001b[1;32m    451\u001b[0m     \u001b[38;5;241m*\u001b[39m\u001b[38;5;241m*\u001b[39mkwargs\n\u001b[1;32m    452\u001b[0m ):\n\u001b[1;32m    453\u001b[0m     \u001b[38;5;28msuper\u001b[39m()\u001b[38;5;241m.\u001b[39m\u001b[38;5;21m__init__\u001b[39m(dl_type\u001b[38;5;241m=\u001b[39mdl_type)\n\u001b[0;32m--> 454\u001b[0m     \u001b[38;5;28mself\u001b[39m\u001b[38;5;241m.\u001b[39mtls \u001b[38;5;241m=\u001b[39m L(tls \u001b[38;5;28;01mif\u001b[39;00m tls \u001b[38;5;28;01melse\u001b[39;00m [\u001b[43mTfmdLists\u001b[49m\u001b[43m(\u001b[49m\u001b[43mitems\u001b[49m\u001b[43m,\u001b[49m\u001b[43m \u001b[49m\u001b[43mt\u001b[49m\u001b[43m,\u001b[49m\u001b[43m \u001b[49m\u001b[38;5;241;43m*\u001b[39;49m\u001b[38;5;241;43m*\u001b[39;49m\u001b[43mkwargs\u001b[49m\u001b[43m)\u001b[49m \u001b[38;5;28;01mfor\u001b[39;00m t \u001b[38;5;129;01min\u001b[39;00m L(ifnone(tfms,[\u001b[38;5;28;01mNone\u001b[39;00m]))])\n\u001b[1;32m    455\u001b[0m     \u001b[38;5;28mself\u001b[39m\u001b[38;5;241m.\u001b[39mn_inp \u001b[38;5;241m=\u001b[39m ifnone(n_inp, \u001b[38;5;28mmax\u001b[39m(\u001b[38;5;241m1\u001b[39m, \u001b[38;5;28mlen\u001b[39m(\u001b[38;5;28mself\u001b[39m\u001b[38;5;241m.\u001b[39mtls)\u001b[38;5;241m-\u001b[39m\u001b[38;5;241m1\u001b[39m))\n",
      "File \u001b[0;32m~/.local/lib/python3.10/site-packages/fastcore/foundation.py:98\u001b[0m, in \u001b[0;36m_L_Meta.__call__\u001b[0;34m(cls, x, *args, **kwargs)\u001b[0m\n\u001b[1;32m     96\u001b[0m \u001b[38;5;28;01mdef\u001b[39;00m \u001b[38;5;21m__call__\u001b[39m(\u001b[38;5;28mcls\u001b[39m, x\u001b[38;5;241m=\u001b[39m\u001b[38;5;28;01mNone\u001b[39;00m, \u001b[38;5;241m*\u001b[39margs, \u001b[38;5;241m*\u001b[39m\u001b[38;5;241m*\u001b[39mkwargs):\n\u001b[1;32m     97\u001b[0m     \u001b[38;5;28;01mif\u001b[39;00m \u001b[38;5;129;01mnot\u001b[39;00m args \u001b[38;5;129;01mand\u001b[39;00m \u001b[38;5;129;01mnot\u001b[39;00m kwargs \u001b[38;5;129;01mand\u001b[39;00m x \u001b[38;5;129;01mis\u001b[39;00m \u001b[38;5;129;01mnot\u001b[39;00m \u001b[38;5;28;01mNone\u001b[39;00m \u001b[38;5;129;01mand\u001b[39;00m \u001b[38;5;28misinstance\u001b[39m(x,\u001b[38;5;28mcls\u001b[39m): \u001b[38;5;28;01mreturn\u001b[39;00m x\n\u001b[0;32m---> 98\u001b[0m     \u001b[38;5;28;01mreturn\u001b[39;00m \u001b[38;5;28;43msuper\u001b[39;49m\u001b[43m(\u001b[49m\u001b[43m)\u001b[49m\u001b[38;5;241;43m.\u001b[39;49m\u001b[38;5;21;43m__call__\u001b[39;49m\u001b[43m(\u001b[49m\u001b[43mx\u001b[49m\u001b[43m,\u001b[49m\u001b[43m \u001b[49m\u001b[38;5;241;43m*\u001b[39;49m\u001b[43margs\u001b[49m\u001b[43m,\u001b[49m\u001b[43m \u001b[49m\u001b[38;5;241;43m*\u001b[39;49m\u001b[38;5;241;43m*\u001b[39;49m\u001b[43mkwargs\u001b[49m\u001b[43m)\u001b[49m\n",
      "File \u001b[0;32m~/.local/lib/python3.10/site-packages/fastai/data/core.py:368\u001b[0m, in \u001b[0;36mTfmdLists.__init__\u001b[0;34m(self, items, tfms, use_list, do_setup, split_idx, train_setup, splits, types, verbose, dl_type)\u001b[0m\n\u001b[1;32m    366\u001b[0m \u001b[38;5;28;01mif\u001b[39;00m do_setup:\n\u001b[1;32m    367\u001b[0m     pv(\u001b[38;5;124mf\u001b[39m\u001b[38;5;124m\"\u001b[39m\u001b[38;5;124mSetting up \u001b[39m\u001b[38;5;132;01m{\u001b[39;00m\u001b[38;5;28mself\u001b[39m\u001b[38;5;241m.\u001b[39mtfms\u001b[38;5;132;01m}\u001b[39;00m\u001b[38;5;124m\"\u001b[39m, verbose)\n\u001b[0;32m--> 368\u001b[0m     \u001b[38;5;28;43mself\u001b[39;49m\u001b[38;5;241;43m.\u001b[39;49m\u001b[43msetup\u001b[49m\u001b[43m(\u001b[49m\u001b[43mtrain_setup\u001b[49m\u001b[38;5;241;43m=\u001b[39;49m\u001b[43mtrain_setup\u001b[49m\u001b[43m)\u001b[49m\n",
      "File \u001b[0;32m~/.local/lib/python3.10/site-packages/fastai/data/core.py:395\u001b[0m, in \u001b[0;36mTfmdLists.setup\u001b[0;34m(self, train_setup)\u001b[0m\n\u001b[1;32m    393\u001b[0m     \u001b[38;5;28;01mfor\u001b[39;00m f \u001b[38;5;129;01min\u001b[39;00m \u001b[38;5;28mself\u001b[39m\u001b[38;5;241m.\u001b[39mtfms\u001b[38;5;241m.\u001b[39mfs:\n\u001b[1;32m    394\u001b[0m         \u001b[38;5;28mself\u001b[39m\u001b[38;5;241m.\u001b[39mtypes\u001b[38;5;241m.\u001b[39mappend(\u001b[38;5;28mgetattr\u001b[39m(f, \u001b[38;5;124m'\u001b[39m\u001b[38;5;124minput_types\u001b[39m\u001b[38;5;124m'\u001b[39m, \u001b[38;5;28mtype\u001b[39m(x)))\n\u001b[0;32m--> 395\u001b[0m         x \u001b[38;5;241m=\u001b[39m \u001b[43mf\u001b[49m\u001b[43m(\u001b[49m\u001b[43mx\u001b[49m\u001b[43m)\u001b[49m\n\u001b[1;32m    396\u001b[0m     \u001b[38;5;28mself\u001b[39m\u001b[38;5;241m.\u001b[39mtypes\u001b[38;5;241m.\u001b[39mappend(\u001b[38;5;28mtype\u001b[39m(x))\n\u001b[1;32m    397\u001b[0m types \u001b[38;5;241m=\u001b[39m L(t \u001b[38;5;28;01mif\u001b[39;00m is_listy(t) \u001b[38;5;28;01melse\u001b[39;00m [t] \u001b[38;5;28;01mfor\u001b[39;00m t \u001b[38;5;129;01min\u001b[39;00m \u001b[38;5;28mself\u001b[39m\u001b[38;5;241m.\u001b[39mtypes)\u001b[38;5;241m.\u001b[39mconcat()\u001b[38;5;241m.\u001b[39munique()\n",
      "File \u001b[0;32m~/.local/lib/python3.10/site-packages/fastcore/transform.py:81\u001b[0m, in \u001b[0;36mTransform.__call__\u001b[0;34m(self, x, **kwargs)\u001b[0m\n\u001b[0;32m---> 81\u001b[0m \u001b[38;5;28;01mdef\u001b[39;00m \u001b[38;5;21m__call__\u001b[39m(\u001b[38;5;28mself\u001b[39m, x, \u001b[38;5;241m*\u001b[39m\u001b[38;5;241m*\u001b[39mkwargs): \u001b[38;5;28;01mreturn\u001b[39;00m \u001b[38;5;28;43mself\u001b[39;49m\u001b[38;5;241;43m.\u001b[39;49m\u001b[43m_call\u001b[49m\u001b[43m(\u001b[49m\u001b[38;5;124;43m'\u001b[39;49m\u001b[38;5;124;43mencodes\u001b[39;49m\u001b[38;5;124;43m'\u001b[39;49m\u001b[43m,\u001b[49m\u001b[43m \u001b[49m\u001b[43mx\u001b[49m\u001b[43m,\u001b[49m\u001b[43m \u001b[49m\u001b[38;5;241;43m*\u001b[39;49m\u001b[38;5;241;43m*\u001b[39;49m\u001b[43mkwargs\u001b[49m\u001b[43m)\u001b[49m\n",
      "File \u001b[0;32m~/.local/lib/python3.10/site-packages/fastcore/transform.py:91\u001b[0m, in \u001b[0;36mTransform._call\u001b[0;34m(self, fn, x, split_idx, **kwargs)\u001b[0m\n\u001b[1;32m     89\u001b[0m \u001b[38;5;28;01mdef\u001b[39;00m \u001b[38;5;21m_call\u001b[39m(\u001b[38;5;28mself\u001b[39m, fn, x, split_idx\u001b[38;5;241m=\u001b[39m\u001b[38;5;28;01mNone\u001b[39;00m, \u001b[38;5;241m*\u001b[39m\u001b[38;5;241m*\u001b[39mkwargs):\n\u001b[1;32m     90\u001b[0m     \u001b[38;5;28;01mif\u001b[39;00m split_idx\u001b[38;5;241m!=\u001b[39m\u001b[38;5;28mself\u001b[39m\u001b[38;5;241m.\u001b[39msplit_idx \u001b[38;5;129;01mand\u001b[39;00m \u001b[38;5;28mself\u001b[39m\u001b[38;5;241m.\u001b[39msplit_idx \u001b[38;5;129;01mis\u001b[39;00m \u001b[38;5;129;01mnot\u001b[39;00m \u001b[38;5;28;01mNone\u001b[39;00m: \u001b[38;5;28;01mreturn\u001b[39;00m x\n\u001b[0;32m---> 91\u001b[0m     \u001b[38;5;28;01mreturn\u001b[39;00m \u001b[38;5;28;43mself\u001b[39;49m\u001b[38;5;241;43m.\u001b[39;49m\u001b[43m_do_call\u001b[49m\u001b[43m(\u001b[49m\u001b[38;5;28;43mgetattr\u001b[39;49m\u001b[43m(\u001b[49m\u001b[38;5;28;43mself\u001b[39;49m\u001b[43m,\u001b[49m\u001b[43m \u001b[49m\u001b[43mfn\u001b[49m\u001b[43m)\u001b[49m\u001b[43m,\u001b[49m\u001b[43m \u001b[49m\u001b[43mx\u001b[49m\u001b[43m,\u001b[49m\u001b[43m \u001b[49m\u001b[38;5;241;43m*\u001b[39;49m\u001b[38;5;241;43m*\u001b[39;49m\u001b[43mkwargs\u001b[49m\u001b[43m)\u001b[49m\n",
      "File \u001b[0;32m~/.local/lib/python3.10/site-packages/fastcore/transform.py:97\u001b[0m, in \u001b[0;36mTransform._do_call\u001b[0;34m(self, f, x, **kwargs)\u001b[0m\n\u001b[1;32m     95\u001b[0m     \u001b[38;5;28;01mif\u001b[39;00m f \u001b[38;5;129;01mis\u001b[39;00m \u001b[38;5;28;01mNone\u001b[39;00m: \u001b[38;5;28;01mreturn\u001b[39;00m x\n\u001b[1;32m     96\u001b[0m     ret \u001b[38;5;241m=\u001b[39m f\u001b[38;5;241m.\u001b[39mreturns(x) \u001b[38;5;28;01mif\u001b[39;00m \u001b[38;5;28mhasattr\u001b[39m(f,\u001b[38;5;124m'\u001b[39m\u001b[38;5;124mreturns\u001b[39m\u001b[38;5;124m'\u001b[39m) \u001b[38;5;28;01melse\u001b[39;00m \u001b[38;5;28;01mNone\u001b[39;00m\n\u001b[0;32m---> 97\u001b[0m     \u001b[38;5;28;01mreturn\u001b[39;00m retain_type(\u001b[43mf\u001b[49m\u001b[43m(\u001b[49m\u001b[43mx\u001b[49m\u001b[43m,\u001b[49m\u001b[43m \u001b[49m\u001b[38;5;241;43m*\u001b[39;49m\u001b[38;5;241;43m*\u001b[39;49m\u001b[43mkwargs\u001b[49m\u001b[43m)\u001b[49m, x, ret)\n\u001b[1;32m     98\u001b[0m res \u001b[38;5;241m=\u001b[39m \u001b[38;5;28mtuple\u001b[39m(\u001b[38;5;28mself\u001b[39m\u001b[38;5;241m.\u001b[39m_do_call(f, x_, \u001b[38;5;241m*\u001b[39m\u001b[38;5;241m*\u001b[39mkwargs) \u001b[38;5;28;01mfor\u001b[39;00m x_ \u001b[38;5;129;01min\u001b[39;00m x)\n\u001b[1;32m     99\u001b[0m \u001b[38;5;28;01mreturn\u001b[39;00m retain_type(res, x)\n",
      "File \u001b[0;32m~/.local/lib/python3.10/site-packages/fastcore/dispatch.py:120\u001b[0m, in \u001b[0;36mTypeDispatch.__call__\u001b[0;34m(self, *args, **kwargs)\u001b[0m\n\u001b[1;32m    118\u001b[0m \u001b[38;5;28;01melif\u001b[39;00m \u001b[38;5;28mself\u001b[39m\u001b[38;5;241m.\u001b[39minst \u001b[38;5;129;01mis\u001b[39;00m \u001b[38;5;129;01mnot\u001b[39;00m \u001b[38;5;28;01mNone\u001b[39;00m: f \u001b[38;5;241m=\u001b[39m MethodType(f, \u001b[38;5;28mself\u001b[39m\u001b[38;5;241m.\u001b[39minst)\n\u001b[1;32m    119\u001b[0m \u001b[38;5;28;01melif\u001b[39;00m \u001b[38;5;28mself\u001b[39m\u001b[38;5;241m.\u001b[39mowner \u001b[38;5;129;01mis\u001b[39;00m \u001b[38;5;129;01mnot\u001b[39;00m \u001b[38;5;28;01mNone\u001b[39;00m: f \u001b[38;5;241m=\u001b[39m MethodType(f, \u001b[38;5;28mself\u001b[39m\u001b[38;5;241m.\u001b[39mowner)\n\u001b[0;32m--> 120\u001b[0m \u001b[38;5;28;01mreturn\u001b[39;00m \u001b[43mf\u001b[49m\u001b[43m(\u001b[49m\u001b[38;5;241;43m*\u001b[39;49m\u001b[43margs\u001b[49m\u001b[43m,\u001b[49m\u001b[43m \u001b[49m\u001b[38;5;241;43m*\u001b[39;49m\u001b[38;5;241;43m*\u001b[39;49m\u001b[43mkwargs\u001b[49m\u001b[43m)\u001b[49m\n",
      "File \u001b[0;32m~/.local/lib/python3.10/site-packages/fastai/vision/core.py:125\u001b[0m, in \u001b[0;36mPILBase.create\u001b[0;34m(cls, fn, **kwargs)\u001b[0m\n\u001b[1;32m    123\u001b[0m \u001b[38;5;28;01mif\u001b[39;00m \u001b[38;5;28misinstance\u001b[39m(fn,\u001b[38;5;28mbytes\u001b[39m): fn \u001b[38;5;241m=\u001b[39m io\u001b[38;5;241m.\u001b[39mBytesIO(fn)\n\u001b[1;32m    124\u001b[0m \u001b[38;5;28;01mif\u001b[39;00m \u001b[38;5;28misinstance\u001b[39m(fn,Image\u001b[38;5;241m.\u001b[39mImage) \u001b[38;5;129;01mand\u001b[39;00m \u001b[38;5;129;01mnot\u001b[39;00m \u001b[38;5;28misinstance\u001b[39m(fn,\u001b[38;5;28mcls\u001b[39m): \u001b[38;5;28;01mreturn\u001b[39;00m \u001b[38;5;28mcls\u001b[39m(fn)\n\u001b[0;32m--> 125\u001b[0m \u001b[38;5;28;01mreturn\u001b[39;00m \u001b[38;5;28mcls\u001b[39m(\u001b[43mload_image\u001b[49m\u001b[43m(\u001b[49m\u001b[43mfn\u001b[49m\u001b[43m,\u001b[49m\u001b[43m \u001b[49m\u001b[38;5;241;43m*\u001b[39;49m\u001b[38;5;241;43m*\u001b[39;49m\u001b[43mmerge\u001b[49m\u001b[43m(\u001b[49m\u001b[38;5;28;43mcls\u001b[39;49m\u001b[38;5;241;43m.\u001b[39;49m\u001b[43m_open_args\u001b[49m\u001b[43m,\u001b[49m\u001b[43m \u001b[49m\u001b[43mkwargs\u001b[49m\u001b[43m)\u001b[49m\u001b[43m)\u001b[49m)\n",
      "File \u001b[0;32m~/.local/lib/python3.10/site-packages/fastai/vision/core.py:98\u001b[0m, in \u001b[0;36mload_image\u001b[0;34m(fn, mode)\u001b[0m\n\u001b[1;32m     96\u001b[0m \u001b[38;5;28;01mdef\u001b[39;00m \u001b[38;5;21mload_image\u001b[39m(fn, mode\u001b[38;5;241m=\u001b[39m\u001b[38;5;28;01mNone\u001b[39;00m):\n\u001b[1;32m     97\u001b[0m     \u001b[38;5;124m\"\u001b[39m\u001b[38;5;124mOpen and load a `PIL.Image` and convert to `mode`\u001b[39m\u001b[38;5;124m\"\u001b[39m\n\u001b[0;32m---> 98\u001b[0m     im \u001b[38;5;241m=\u001b[39m \u001b[43mImage\u001b[49m\u001b[38;5;241;43m.\u001b[39;49m\u001b[43mopen\u001b[49m\u001b[43m(\u001b[49m\u001b[43mfn\u001b[49m\u001b[43m)\u001b[49m\n\u001b[1;32m     99\u001b[0m     im\u001b[38;5;241m.\u001b[39mload()\n\u001b[1;32m    100\u001b[0m     im \u001b[38;5;241m=\u001b[39m im\u001b[38;5;241m.\u001b[39m_new(im\u001b[38;5;241m.\u001b[39mim)\n",
      "File \u001b[0;32m/usr/lib/python3/dist-packages/PIL/Image.py:3101\u001b[0m, in \u001b[0;36mopen\u001b[0;34m(fp, mode, formats)\u001b[0m\n\u001b[1;32m   3098\u001b[0m     fp \u001b[38;5;241m=\u001b[39m io\u001b[38;5;241m.\u001b[39mBytesIO(fp\u001b[38;5;241m.\u001b[39mread())\n\u001b[1;32m   3099\u001b[0m     exclusive_fp \u001b[38;5;241m=\u001b[39m \u001b[38;5;28;01mTrue\u001b[39;00m\n\u001b[0;32m-> 3101\u001b[0m prefix \u001b[38;5;241m=\u001b[39m \u001b[43mfp\u001b[49m\u001b[38;5;241;43m.\u001b[39;49m\u001b[43mread\u001b[49m(\u001b[38;5;241m16\u001b[39m)\n\u001b[1;32m   3103\u001b[0m preinit()\n\u001b[1;32m   3105\u001b[0m accept_warnings \u001b[38;5;241m=\u001b[39m []\n",
      "File \u001b[0;32m/usr/lib/python3/dist-packages/PIL/Image.py:517\u001b[0m, in \u001b[0;36mImage.__getattr__\u001b[0;34m(self, name)\u001b[0m\n\u001b[1;32m    515\u001b[0m     deprecate(\u001b[38;5;124m\"\u001b[39m\u001b[38;5;124mImage categories\u001b[39m\u001b[38;5;124m\"\u001b[39m, \u001b[38;5;241m10\u001b[39m, \u001b[38;5;124m\"\u001b[39m\u001b[38;5;124mis_animated\u001b[39m\u001b[38;5;124m\"\u001b[39m, plural\u001b[38;5;241m=\u001b[39m\u001b[38;5;28;01mTrue\u001b[39;00m)\n\u001b[1;32m    516\u001b[0m     \u001b[38;5;28;01mreturn\u001b[39;00m \u001b[38;5;28mself\u001b[39m\u001b[38;5;241m.\u001b[39m_category\n\u001b[0;32m--> 517\u001b[0m \u001b[38;5;28;01mraise\u001b[39;00m \u001b[38;5;167;01mAttributeError\u001b[39;00m(name)\n",
      "\u001b[0;31mAttributeError\u001b[0m: read"
     ]
    }
   ],
   "source": [
    "dls = binary.dataloaders(path_im, bs=2)"
   ]
  },
  {
   "cell_type": "code",
   "execution_count": 41,
   "id": "92e0a901",
   "metadata": {
    "colab": {
     "base_uri": "https://localhost:8080/",
     "height": 166
    },
    "executionInfo": {
     "elapsed": 722,
     "status": "error",
     "timestamp": 1679938020298,
     "user": {
      "displayName": "Ciprian Turcu",
      "userId": "13080297920722879170"
     },
     "user_tz": -180
    },
    "id": "92e0a901",
    "outputId": "5ba6f31f-206c-4f10-944d-712da2d99054"
   },
   "outputs": [
    {
     "ename": "NameError",
     "evalue": "name 'dls' is not defined",
     "output_type": "error",
     "traceback": [
      "\u001b[0;31m---------------------------------------------------------------------------\u001b[0m",
      "\u001b[0;31mNameError\u001b[0m                                 Traceback (most recent call last)",
      "Cell \u001b[0;32mIn[41], line 1\u001b[0m\n\u001b[0;32m----> 1\u001b[0m \u001b[43mdls\u001b[49m\u001b[38;5;241m.\u001b[39mshow_batch(cmap\u001b[38;5;241m=\u001b[39m\u001b[38;5;124m'\u001b[39m\u001b[38;5;124mBlues\u001b[39m\u001b[38;5;124m'\u001b[39m, vmin\u001b[38;5;241m=\u001b[39m\u001b[38;5;241m0\u001b[39m, vmax\u001b[38;5;241m=\u001b[39m\u001b[38;5;241m1\u001b[39m)\n",
      "\u001b[0;31mNameError\u001b[0m: name 'dls' is not defined"
     ]
    }
   ],
   "source": [
    "dls.show_batch(cmap='Blues', vmin=0, vmax=1)"
   ]
  },
  {
   "cell_type": "code",
   "execution_count": 42,
   "id": "7507d07c",
   "metadata": {
    "id": "7507d07c"
   },
   "outputs": [
    {
     "ename": "NameError",
     "evalue": "name 'dls' is not defined",
     "output_type": "error",
     "traceback": [
      "\u001b[0;31m---------------------------------------------------------------------------\u001b[0m",
      "\u001b[0;31mNameError\u001b[0m                                 Traceback (most recent call last)",
      "Cell \u001b[0;32mIn[42], line 1\u001b[0m\n\u001b[0;32m----> 1\u001b[0m learn \u001b[38;5;241m=\u001b[39m unet_learner(\u001b[43mdls\u001b[49m, resnet34)\n",
      "\u001b[0;31mNameError\u001b[0m: name 'dls' is not defined"
     ]
    }
   ],
   "source": [
    "learn = unet_learner(dls, resnet34)"
   ]
  },
  {
   "cell_type": "code",
   "execution_count": null,
   "id": "e3f460f1",
   "metadata": {
    "id": "e3f460f1"
   },
   "outputs": [],
   "source": [
    "learn.fit(10)"
   ]
  },
  {
   "cell_type": "code",
   "execution_count": null,
   "id": "724747e4",
   "metadata": {
    "id": "724747e4"
   },
   "outputs": [],
   "source": [
    "learn.show_results(cmap='Blues', vmin=0, vmax=1)"
   ]
  },
  {
   "cell_type": "code",
   "execution_count": null,
   "id": "ee83d413",
   "metadata": {
    "id": "ee83d413"
   },
   "outputs": [],
   "source": [
    "preds = learn.get_preds()"
   ]
  },
  {
   "cell_type": "code",
   "execution_count": null,
   "id": "074ef6db",
   "metadata": {
    "id": "074ef6db"
   },
   "outputs": [],
   "source": [
    "preds[0][0].shape"
   ]
  },
  {
   "cell_type": "code",
   "execution_count": null,
   "id": "5aab593d",
   "metadata": {
    "id": "5aab593d"
   },
   "outputs": [],
   "source": [
    "p = preds[0][0]"
   ]
  },
  {
   "cell_type": "code",
   "execution_count": null,
   "id": "98aff710",
   "metadata": {
    "id": "98aff710"
   },
   "outputs": [],
   "source": [
    "plt.imshow(p[1])"
   ]
  },
  {
   "cell_type": "code",
   "execution_count": null,
   "id": "c0e55b57",
   "metadata": {
    "id": "c0e55b57"
   },
   "outputs": [],
   "source": [
    "plt.imshow(p[0])"
   ]
  },
  {
   "cell_type": "code",
   "execution_count": null,
   "id": "88827045",
   "metadata": {
    "id": "88827045"
   },
   "outputs": [],
   "source": [
    "# INFERENCE"
   ]
  },
  {
   "cell_type": "code",
   "execution_count": null,
   "id": "7fb3406b",
   "metadata": {
    "id": "7fb3406b"
   },
   "outputs": [],
   "source": [
    "dl = learn.dls.test_dl('test/car_test.jpg')\n",
    "dl.show_batch()"
   ]
  },
  {
   "cell_type": "code",
   "execution_count": null,
   "id": "051b8550",
   "metadata": {
    "id": "051b8550"
   },
   "outputs": [],
   "source": [
    "preds = learn.get_preds(dl=dl)"
   ]
  },
  {
   "cell_type": "code",
   "execution_count": null,
   "id": "8db60531",
   "metadata": {
    "id": "8db60531"
   },
   "outputs": [],
   "source": [
    "preds[0].shape"
   ]
  },
  {
   "cell_type": "code",
   "execution_count": null,
   "id": "8988a18c",
   "metadata": {
    "id": "8988a18c"
   },
   "outputs": [],
   "source": [
    "pred_1 = preds[0][0]"
   ]
  },
  {
   "cell_type": "code",
   "execution_count": null,
   "id": "f1732c7f",
   "metadata": {
    "id": "f1732c7f"
   },
   "outputs": [],
   "source": [
    "pred_1.shape"
   ]
  },
  {
   "cell_type": "code",
   "execution_count": null,
   "id": "18c25d0b",
   "metadata": {
    "id": "18c25d0b"
   },
   "outputs": [],
   "source": [
    "pred_arx = pred_1.argmax(dim=0)"
   ]
  },
  {
   "cell_type": "code",
   "execution_count": null,
   "id": "dd60f022",
   "metadata": {
    "id": "dd60f022"
   },
   "outputs": [],
   "source": [
    "plt.imshow(pred_arx)"
   ]
  }
 ],
 "metadata": {
  "colab": {
   "provenance": []
  },
  "kernelspec": {
   "display_name": "Python 3 (ipykernel)",
   "language": "python",
   "name": "python3"
  },
  "language_info": {
   "codemirror_mode": {
    "name": "ipython",
    "version": 3
   },
   "file_extension": ".py",
   "mimetype": "text/x-python",
   "name": "python",
   "nbconvert_exporter": "python",
   "pygments_lexer": "ipython3",
   "version": "3.10.7"
  }
 },
 "nbformat": 4,
 "nbformat_minor": 5
}
