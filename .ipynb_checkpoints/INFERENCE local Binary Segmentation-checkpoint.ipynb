{
 "cells": [
  {
   "cell_type": "code",
   "execution_count": null,
   "id": "6be20584",
   "metadata": {},
   "outputs": [],
   "source": [
    "from IPython.display import Image\n",
    "import sys\n",
    "\n",
    "sys.path.append('lib')\n",
    "from logic import *"
   ]
  },
  {
   "cell_type": "code",
   "execution_count": null,
   "id": "b57ef86b",
   "metadata": {},
   "outputs": [],
   "source": [
    "learn = main_logic()"
   ]
  },
  {
   "cell_type": "code",
   "execution_count": null,
   "id": "cc5fd08e",
   "metadata": {},
   "outputs": [],
   "source": [
    "learn.load('trained_car_Wheels2')"
   ]
  },
  {
   "cell_type": "code",
   "execution_count": null,
   "id": "4335e73a",
   "metadata": {},
   "outputs": [],
   "source": [
    "image_path='test/car_test_tesla.jpg'"
   ]
  },
  {
   "cell_type": "code",
   "execution_count": null,
   "id": "47d05a80",
   "metadata": {},
   "outputs": [],
   "source": [
    "im = get_predict_image(image_path,learn)\n",
    "img = Image.open(image_path)\n",
    "\n",
    "img_resize = img.resize((224, 224))"
   ]
  },
  {
   "cell_type": "code",
   "execution_count": null,
   "id": "bea3dd12",
   "metadata": {},
   "outputs": [],
   "source": [
    "im"
   ]
  },
  {
   "cell_type": "code",
   "execution_count": null,
   "id": "f4749aa6",
   "metadata": {},
   "outputs": [],
   "source": [
    "img_resize"
   ]
  }
 ],
 "metadata": {
  "kernelspec": {
   "display_name": "bs",
   "language": "python",
   "name": "bs"
  },
  "language_info": {
   "codemirror_mode": {
    "name": "ipython",
    "version": 3
   },
   "file_extension": ".py",
   "mimetype": "text/x-python",
   "name": "python",
   "nbconvert_exporter": "python",
   "pygments_lexer": "ipython3",
   "version": "3.10.7"
  }
 },
 "nbformat": 4,
 "nbformat_minor": 5
}
