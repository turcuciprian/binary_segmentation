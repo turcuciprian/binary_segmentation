{
 "cells": [
  {
   "cell_type": "code",
   "execution_count": null,
   "id": "6be20584",
   "metadata": {},
   "outputs": [],
   "source": [
    "!pip3 install fastai fastcore wwf opencv-python-headless\n",
    "from IPython.display import Image\n",
    "import sys\n",
    "import cv2\n",
    "from matplotlib import pyplot as plt\n",
    "import numpy as np\n",
    "# from PIL import Image\n",
    "\n",
    "sys.path.append('lib')\n",
    "from logic import *"
   ]
  },
  {
   "cell_type": "code",
   "execution_count": null,
   "id": "b57ef86b",
   "metadata": {},
   "outputs": [],
   "source": [
    "learn = main_logic()"
   ]
  },
  {
   "cell_type": "code",
   "execution_count": null,
   "id": "cc5fd08e",
   "metadata": {},
   "outputs": [],
   "source": [
    "learn.load('model_v0.1')"
   ]
  },
  {
   "cell_type": "code",
   "execution_count": null,
   "id": "4335e73a",
   "metadata": {},
   "outputs": [],
   "source": [
    "image_path='test/test2.png'"
   ]
  },
  {
   "cell_type": "code",
   "execution_count": null,
   "id": "47d05a80",
   "metadata": {},
   "outputs": [],
   "source": [
    "first_mask = get_predict_image(image_path,learn)"
   ]
  },
  {
   "cell_type": "code",
   "execution_count": null,
   "id": "3fa44cd2",
   "metadata": {},
   "outputs": [],
   "source": [
    "image = cv2.imread(image_path, cv2.COLOR_GRAY2BGR)"
   ]
  },
  {
   "cell_type": "code",
   "execution_count": null,
   "id": "51552cef",
   "metadata": {},
   "outputs": [],
   "source": [
    "#SHOW Image\n",
    "plt.imshow(cv2.cvtColor(image, cv2.COLOR_BGR2RGB))\n",
    "plt.show()"
   ]
  },
  {
   "cell_type": "code",
   "execution_count": null,
   "id": "5625f86a",
   "metadata": {},
   "outputs": [],
   "source": [
    "# Convert the PIL Image object to a NumPy array\n",
    "img_np = np.asarray(first_mask)\n",
    "\n",
    "# Convert the NumPy array to a cv2.imread() format\n",
    "overlayed_mask = cv2.cvtColor(img_np, cv2.IMREAD_GRAYSCALE)"
   ]
  },
  {
   "cell_type": "code",
   "execution_count": null,
   "id": "76dc3041",
   "metadata": {},
   "outputs": [],
   "source": [
    "#SHOW Mask\n",
    "plt.imshow(cv2.cvtColor(overlayed_mask, cv2.IMREAD_GRAYSCALE))\n",
    "plt.show()"
   ]
  },
  {
   "cell_type": "code",
   "execution_count": null,
   "id": "f281d618",
   "metadata": {},
   "outputs": [],
   "source": [
    "# Overlay the mask onto the image\n",
    "overlay = overlay_mask(image, overlayed_mask)"
   ]
  },
  {
   "cell_type": "code",
   "execution_count": null,
   "id": "523b85b5",
   "metadata": {},
   "outputs": [],
   "source": [
    "# Show the overlaid image using Matplotlib\n",
    "plt.imshow(cv2.cvtColor(overlay, cv2.IMREAD_GRAYSCALE))"
   ]
  },
  {
   "cell_type": "code",
   "execution_count": null,
   "id": "4cf51c1b",
   "metadata": {},
   "outputs": [],
   "source": [
    "plt.show()"
   ]
  }
 ],
 "metadata": {
  "kernelspec": {
   "display_name": "Python 3 (ipykernel)",
   "language": "python",
   "name": "python3"
  },
  "language_info": {
   "codemirror_mode": {
    "name": "ipython",
    "version": 3
   },
   "file_extension": ".py",
   "mimetype": "text/x-python",
   "name": "python",
   "nbconvert_exporter": "python",
   "pygments_lexer": "ipython3",
   "version": "3.10.9"
  }
 },
 "nbformat": 4,
 "nbformat_minor": 5
}
