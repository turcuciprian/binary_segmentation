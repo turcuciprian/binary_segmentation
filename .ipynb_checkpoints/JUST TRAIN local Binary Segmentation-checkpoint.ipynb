{
 "cells": [
  {
   "cell_type": "code",
   "execution_count": 1,
   "id": "6be20584",
   "metadata": {},
   "outputs": [],
   "source": [
    "import sys\n",
    "sys.path.append('lib')\n",
    "from logic import *"
   ]
  },
  {
   "cell_type": "code",
   "execution_count": null,
   "id": "dc143026",
   "metadata": {},
   "outputs": [],
   "source": []
  },
  {
   "cell_type": "code",
   "execution_count": 2,
   "id": "e3f8eac7",
   "metadata": {},
   "outputs": [
    {
     "ename": "NameError",
     "evalue": "name 'main_logic' is not defined",
     "output_type": "error",
     "traceback": [
      "\u001b[0;31m---------------------------------------------------------------------------\u001b[0m",
      "\u001b[0;31mNameError\u001b[0m                                 Traceback (most recent call last)",
      "Cell \u001b[0;32mIn[2], line 1\u001b[0m\n\u001b[0;32m----> 1\u001b[0m learn \u001b[38;5;241m=\u001b[39m \u001b[43mmain_logic\u001b[49m()\n",
      "\u001b[0;31mNameError\u001b[0m: name 'main_logic' is not defined"
     ]
    }
   ],
   "source": [
    "learn = main_logic()"
   ]
  },
  {
   "cell_type": "code",
   "execution_count": null,
   "id": "75b99a0f",
   "metadata": {},
   "outputs": [],
   "source": [
    "learn.fit(80)"
   ]
  },
  {
   "cell_type": "code",
   "execution_count": null,
   "id": "1fac5c5c",
   "metadata": {},
   "outputs": [],
   "source": [
    "preds = learn.get_preds()"
   ]
  },
  {
   "cell_type": "code",
   "execution_count": null,
   "id": "79e224b5",
   "metadata": {},
   "outputs": [],
   "source": [
    "p = preds[0][0]"
   ]
  },
  {
   "cell_type": "code",
   "execution_count": null,
   "id": "cc5fd08e",
   "metadata": {},
   "outputs": [],
   "source": [
    "learn.save('trained_car_Wheels3')"
   ]
  }
 ],
 "metadata": {
  "kernelspec": {
   "display_name": "bs",
   "language": "python",
   "name": "bs"
  },
  "language_info": {
   "codemirror_mode": {
    "name": "ipython",
    "version": 3
   },
   "file_extension": ".py",
   "mimetype": "text/x-python",
   "name": "python",
   "nbconvert_exporter": "python",
   "pygments_lexer": "ipython3",
   "version": "3.10.7"
  }
 },
 "nbformat": 4,
 "nbformat_minor": 5
}
