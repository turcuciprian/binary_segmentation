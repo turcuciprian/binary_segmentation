{
 "cells": [
  {
   "cell_type": "code",
   "execution_count": 1,
   "id": "6be20584",
   "metadata": {},
   "outputs": [],
   "source": [
    "# training the model -- FULL CODE --\n",
    "from fastai.vision.all import *\n"
   ]
  },
  {
   "cell_type": "code",
   "execution_count": 2,
   "id": "3a55a011",
   "metadata": {},
   "outputs": [],
   "source": [
    "\n",
    "path = Path('data')\n"
   ]
  },
  {
   "cell_type": "code",
   "execution_count": 3,
   "id": "d083a075",
   "metadata": {},
   "outputs": [],
   "source": [
    "\n",
    "lbl_names = get_image_files('./data/GT_png')\n",
    "fnames = get_image_files('./data/images')\n",
    "\n"
   ]
  },
  {
   "cell_type": "code",
   "execution_count": 4,
   "id": "4c727e41",
   "metadata": {},
   "outputs": [],
   "source": [
    "img_fn = fnames[2]\n"
   ]
  },
  {
   "cell_type": "code",
   "execution_count": 6,
   "id": "3851cf05",
   "metadata": {},
   "outputs": [
    {
     "ename": "SyntaxError",
     "evalue": "invalid syntax. Perhaps you forgot a comma? (2584797516.py, line 1)",
     "output_type": "error",
     "traceback": [
      "\u001b[0;36m  Cell \u001b[0;32mIn[6], line 1\u001b[0;36m\u001b[0m\n\u001b[0;31m    im = PILImage.create(str(fnames[0])\u001b[0m\n\u001b[0m                         ^\u001b[0m\n\u001b[0;31mSyntaxError\u001b[0m\u001b[0;31m:\u001b[0m invalid syntax. Perhaps you forgot a comma?\n"
     ]
    }
   ],
   "source": [
    "\n",
    "im = PILImage.create(str(fnames[0]))\n",
    "msk = PILMask.create(str(lbl_names[0]))\n",
    "\n"
   ]
  },
  {
   "cell_type": "code",
   "execution_count": null,
   "id": "764cca80",
   "metadata": {},
   "outputs": [],
   "source": [
    "\n",
    "def get_msk(fn, p2c):\n",
    "    \"Grab a mask from a `filename` and adjust the pixels based on `pix2class`\"\n",
    "    fn = path/''/f'GT_png'/f'{fn.stem}_mask{fn.suffix}'\n",
    "    msk = np.array(PILMask.create(fn))\n",
    "    mx = np.max(msk)\n",
    "    for i, val in enumerate(p2c):\n",
    "        msk[msk == p2c[i]] = val\n",
    "    return PILMask.create(msk)\n",
    "\n",
    "\n",
    "def n_codes(fnames, is_partial=True):\n",
    "    \"Gather the codes from a list of `fnames`\"\n",
    "    vals = set()\n",
    "    if is_partial:\n",
    "        random.shuffle(fnames)\n",
    "        fnames = fnames[:len(fnames)]\n",
    "    for fname in fnames:\n",
    "        msk = np.array(PILMask.create(fname))\n",
    "        for val in np.unique(msk):\n",
    "            if val not in vals:\n",
    "                vals.add(val)\n",
    "    vals = list(vals)\n",
    "    p2c = dict()\n",
    "    for i, val in enumerate(vals):\n",
    "        p2c[i] = vals[i]\n",
    "    return p2c\n",
    "\n"
   ]
  },
  {
   "cell_type": "code",
   "execution_count": null,
   "id": "3feb542c",
   "metadata": {},
   "outputs": [],
   "source": [
    "\n",
    "p2c = n_codes(lbl_names)\n",
    "\n",
    "codes = ['Background', 'Wheel']\n",
    "\n",
    "\n",
    "def get_y(o): return get_msk(o, p2c)\n",
    "\n"
   ]
  },
  {
   "cell_type": "code",
   "execution_count": null,
   "id": "8da26226",
   "metadata": {},
   "outputs": [],
   "source": [
    "\n",
    "binary = DataBlock(blocks=(ImageBlock, MaskBlock(codes)),\n",
    "                   get_items=get_image_files,\n",
    "                   splitter=RandomSplitter(),\n",
    "                   get_y=get_y,\n",
    "                   item_tfms=Resize(224),\n",
    "                   batch_tfms=[Normalize.from_stats(*imagenet_stats)])\n",
    "\n"
   ]
  },
  {
   "cell_type": "code",
   "execution_count": null,
   "id": "03eb94bd",
   "metadata": {},
   "outputs": [],
   "source": [
    "dls = binary.dataloaders('data/images', bs=2)"
   ]
  },
  {
   "cell_type": "code",
   "execution_count": null,
   "id": "9b53d886",
   "metadata": {},
   "outputs": [],
   "source": [
    "dls.show_batch(cmap='Blues', vmin=0, vmax=1)"
   ]
  },
  {
   "cell_type": "code",
   "execution_count": null,
   "id": "8f92fca8",
   "metadata": {},
   "outputs": [],
   "source": [
    "learn = unet_learner(dls, resnet34)"
   ]
  },
  {
   "cell_type": "code",
   "execution_count": null,
   "id": "75b99a0f",
   "metadata": {},
   "outputs": [],
   "source": [
    "learn.fit(80)"
   ]
  },
  {
   "cell_type": "code",
   "execution_count": null,
   "id": "1fac5c5c",
   "metadata": {},
   "outputs": [],
   "source": [
    "preds = learn.get_preds()"
   ]
  },
  {
   "cell_type": "code",
   "execution_count": null,
   "id": "79e224b5",
   "metadata": {},
   "outputs": [],
   "source": [
    "p = preds[0][0]"
   ]
  },
  {
   "cell_type": "code",
   "execution_count": null,
   "id": "cc5fd08e",
   "metadata": {},
   "outputs": [],
   "source": [
    "learn.save('trained_car_Wheels')"
   ]
  },
  {
   "cell_type": "code",
   "execution_count": null,
   "id": "f35a3219",
   "metadata": {},
   "outputs": [],
   "source": [
    "learn.predict()"
   ]
  }
 ],
 "metadata": {
  "kernelspec": {
   "display_name": "bs",
   "language": "python",
   "name": "bs"
  },
  "language_info": {
   "codemirror_mode": {
    "name": "ipython",
    "version": 3
   },
   "file_extension": ".py",
   "mimetype": "text/x-python",
   "name": "python",
   "nbconvert_exporter": "python",
   "pygments_lexer": "ipython3",
   "version": "3.10.7"
  }
 },
 "nbformat": 4,
 "nbformat_minor": 5
}
