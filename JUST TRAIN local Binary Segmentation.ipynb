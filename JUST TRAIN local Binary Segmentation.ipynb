{
 "cells": [
  {
   "cell_type": "code",
   "execution_count": null,
   "id": "6be20584",
   "metadata": {},
   "outputs": [],
   "source": [
    "!pip3 install fastai fastcore wwf\n",
    "import sys\n",
    "\n",
    "import os\n",
    "os.environ['CUDA_LAUNCH_BLOCKING'] = '1'\n",
    "\n",
    "sys.path.append('lib')\n",
    "from logic import *"
   ]
  },
  {
   "cell_type": "code",
   "execution_count": null,
   "id": "b57ef86b",
   "metadata": {},
   "outputs": [],
   "source": [
    "learn = main_logic()"
   ]
  },
  {
   "cell_type": "code",
   "execution_count": null,
   "id": "75b99a0f",
   "metadata": {},
   "outputs": [],
   "source": [
    "learn.fit(35)"
   ]
  },
  {
   "cell_type": "code",
   "execution_count": null,
   "id": "1fac5c5c",
   "metadata": {},
   "outputs": [],
   "source": [
    "preds = learn.get_preds()"
   ]
  },
  {
   "cell_type": "code",
   "execution_count": null,
   "id": "79e224b5",
   "metadata": {},
   "outputs": [],
   "source": [
    "p = preds[0][0]"
   ]
  },
  {
   "cell_type": "code",
   "execution_count": null,
   "id": "cc5fd08e",
   "metadata": {},
   "outputs": [],
   "source": [
    "\n",
    "learn.save('model_v0.1')"
   ]
  },
  {
   "cell_type": "code",
   "execution_count": null,
   "id": "105395b1",
   "metadata": {},
   "outputs": [],
   "source": []
  }
 ],
 "metadata": {
  "kernelspec": {
   "display_name": "Python 3 (ipykernel)",
   "language": "python",
   "name": "python3"
  },
  "language_info": {
   "codemirror_mode": {
    "name": "ipython",
    "version": 3
   },
   "file_extension": ".py",
   "mimetype": "text/x-python",
   "name": "python",
   "nbconvert_exporter": "python",
   "pygments_lexer": "ipython3",
   "version": "3.10.9"
  }
 },
 "nbformat": 4,
 "nbformat_minor": 5
}
